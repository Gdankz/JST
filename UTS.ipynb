{
 "cells": [
  {
   "cell_type": "code",
   "execution_count": 25,
   "id": "33711a09",
   "metadata": {},
   "outputs": [],
   "source": [
    "#Import Library\n",
    "import numpy as np\n",
    "from sklearn.datasets import load_iris\n",
    "from sklearn.model_selection import train_test_split\n",
    "from sklearn.preprocessing import StandardScaler, OneHotEncoder\n",
    "import matplotlib.pyplot as plt\n",
    "from sklearn.cluster import KMeans\n",
    "from sklearn.decomposition import PCA"
   ]
  },
  {
   "cell_type": "code",
   "execution_count": 26,
   "id": "8ca2b150",
   "metadata": {},
   "outputs": [],
   "source": [
    "#Import Dataset\n",
    "iris = load_iris()\n",
    "X = iris.data\n",
    "y = iris.target.reshape(-1, 1)"
   ]
  },
  {
   "cell_type": "code",
   "execution_count": 27,
   "id": "aacfad7e",
   "metadata": {},
   "outputs": [],
   "source": [
    "#Standarisasi Data\n",
    "scaler = StandardScaler()\n",
    "X = scaler.fit_transform(X)"
   ]
  },
  {
   "cell_type": "code",
   "execution_count": 28,
   "id": "ed375aa1",
   "metadata": {},
   "outputs": [],
   "source": [
    "#Ubah Bentuk Data dengan encoding\n",
    "encoder = OneHotEncoder(sparse_output=False)\n",
    "y_encoded = encoder.fit_transform(y)"
   ]
  },
  {
   "cell_type": "code",
   "execution_count": 29,
   "id": "6dd6f49c",
   "metadata": {},
   "outputs": [],
   "source": [
    "#Split Data\n",
    "X_train, X_test, y_train, y_test = train_test_split(X, y_encoded, test_size=0.2)"
   ]
  },
  {
   "cell_type": "markdown",
   "id": "ee32aca2",
   "metadata": {},
   "source": [
    "#  **1. Perceptron**"
   ]
  },
  {
   "cell_type": "code",
   "execution_count": 30,
   "id": "e4932969",
   "metadata": {},
   "outputs": [],
   "source": [
    "#Membuat Fungsi Sigmoid\n",
    "def sigmoid(x):\n",
    "    return 1 / (1 + np.exp(-x))"
   ]
  },
  {
   "cell_type": "code",
   "execution_count": 31,
   "id": "32599940",
   "metadata": {},
   "outputs": [],
   "source": [
    "#Membuat Fungsi Sigmoid Derivative\n",
    "def sigmoid_derivative(x):\n",
    "    return x * (1 - x)"
   ]
  },
  {
   "cell_type": "code",
   "execution_count": 32,
   "id": "c6c2e72f",
   "metadata": {},
   "outputs": [],
   "source": [
    "input_size = X_train.shape[1]  # Menentukan ukuran input berdasarkan jumlah fitur pada data latih\n",
    "output_size = 3  # Menentukan ukuran output (jumlah kelas)\n",
    "learning_rate = 0.01  # Menentukan nilai learning rate untuk pembelajaran\n",
    "perceptron_acc = []  # Membuat list kosong untuk menyimpan akurasi model Perceptron\n",
    "perceptron_epochs_logged = []  # Membuat list kosong untuk mencatat epoch yang dilog\n"
   ]
  },
  {
   "cell_type": "code",
   "execution_count": 33,
   "id": "c5ed846c",
   "metadata": {},
   "outputs": [],
   "source": [
    "# Tetapkan seed random untuk memastikan hasil yang dapat direproduksi\n",
    "np.random.seed(1) \n",
    "\n",
    "# Inisialisasi bobot secara acak dengan nilai dalam rentang [-1, 1]\n",
    "w = 2 * np.random.random((input_size, output_size)) - 1  # Initialize weights randomly with values in range [-1, 1]\n",
    "\n",
    "# Inisialisasi bias dengan nilai nol\n",
    "b = np.zeros((1, output_size))  # Initialize biases with zeros"
   ]
  },
  {
   "cell_type": "code",
   "execution_count": 34,
   "id": "bc0093fc",
   "metadata": {},
   "outputs": [
    {
     "name": "stdout",
     "output_type": "stream",
     "text": [
      "Epoch 0, Loss: 0.4738, Accuracy: 49.17%\n",
      "Epoch 100, Loss: 0.1965, Accuracy: 89.17%\n",
      "Epoch 200, Loss: 0.1777, Accuracy: 90.83%\n",
      "Epoch 300, Loss: 0.1681, Accuracy: 91.67%\n",
      "Epoch 400, Loss: 0.1620, Accuracy: 92.50%\n",
      "Epoch 500, Loss: 0.1576, Accuracy: 93.33%\n",
      "Epoch 600, Loss: 0.1543, Accuracy: 93.33%\n",
      "Epoch 700, Loss: 0.1517, Accuracy: 93.33%\n",
      "Epoch 800, Loss: 0.1496, Accuracy: 93.33%\n",
      "Epoch 900, Loss: 0.1479, Accuracy: 93.33%\n",
      "Epoch 1000, Loss: 0.1465, Accuracy: 93.33%\n",
      "Epoch 1100, Loss: 0.1452, Accuracy: 93.33%\n",
      "Epoch 1200, Loss: 0.1442, Accuracy: 93.33%\n",
      "Epoch 1300, Loss: 0.1432, Accuracy: 93.33%\n",
      "Epoch 1400, Loss: 0.1424, Accuracy: 93.33%\n",
      "Epoch 1500, Loss: 0.1416, Accuracy: 93.33%\n",
      "Epoch 1600, Loss: 0.1410, Accuracy: 93.33%\n",
      "Epoch 1700, Loss: 0.1403, Accuracy: 93.33%\n",
      "Epoch 1800, Loss: 0.1398, Accuracy: 93.33%\n",
      "Epoch 1900, Loss: 0.1393, Accuracy: 93.33%\n",
      "Epoch 2000, Loss: 0.1388, Accuracy: 93.33%\n",
      "Epoch 2100, Loss: 0.1383, Accuracy: 93.33%\n",
      "Epoch 2200, Loss: 0.1379, Accuracy: 94.17%\n",
      "Epoch 2300, Loss: 0.1375, Accuracy: 94.17%\n",
      "Epoch 2400, Loss: 0.1372, Accuracy: 94.17%\n",
      "Epoch 2500, Loss: 0.1368, Accuracy: 94.17%\n",
      "Epoch 2600, Loss: 0.1365, Accuracy: 94.17%\n",
      "Epoch 2700, Loss: 0.1362, Accuracy: 94.17%\n",
      "Epoch 2800, Loss: 0.1359, Accuracy: 94.17%\n",
      "Epoch 2900, Loss: 0.1357, Accuracy: 94.17%\n",
      "Epoch 3000, Loss: 0.1354, Accuracy: 94.17%\n",
      "Epoch 3100, Loss: 0.1352, Accuracy: 94.17%\n",
      "Epoch 3200, Loss: 0.1349, Accuracy: 94.17%\n",
      "Epoch 3300, Loss: 0.1347, Accuracy: 94.17%\n",
      "Epoch 3400, Loss: 0.1345, Accuracy: 94.17%\n",
      "Epoch 3500, Loss: 0.1343, Accuracy: 94.17%\n",
      "Epoch 3600, Loss: 0.1341, Accuracy: 94.17%\n",
      "Epoch 3700, Loss: 0.1339, Accuracy: 94.17%\n",
      "Epoch 3800, Loss: 0.1337, Accuracy: 94.17%\n",
      "Epoch 3900, Loss: 0.1335, Accuracy: 94.17%\n",
      "Epoch 4000, Loss: 0.1334, Accuracy: 94.17%\n",
      "Epoch 4100, Loss: 0.1332, Accuracy: 95.00%\n",
      "Epoch 4200, Loss: 0.1330, Accuracy: 95.00%\n",
      "Epoch 4300, Loss: 0.1329, Accuracy: 95.00%\n",
      "Epoch 4400, Loss: 0.1327, Accuracy: 95.00%\n",
      "Epoch 4500, Loss: 0.1326, Accuracy: 95.00%\n",
      "Epoch 4600, Loss: 0.1325, Accuracy: 95.00%\n",
      "Epoch 4700, Loss: 0.1323, Accuracy: 95.00%\n",
      "Epoch 4800, Loss: 0.1322, Accuracy: 95.00%\n",
      "Epoch 4900, Loss: 0.1321, Accuracy: 95.00%\n"
     ]
    }
   ],
   "source": [
    "for epoch in range(5000):\n",
    "    # ====== Forward Propagation ======\n",
    "    # Menghitung input ke layer output\n",
    "    z = np.dot(X_train, w) + b\n",
    "    # Menerapkan fungsi aktivasi sigmoid\n",
    "    a = sigmoid(z)\n",
    "\n",
    "    # ====== Hitung Loss ======\n",
    "    # Menggunakan Mean Squared Error (MSE) sebagai fungsi loss\n",
    "    loss = np.mean(np.square(y_train - a))\n",
    "\n",
    "    # ====== Backward Propagation ======\n",
    "    # Menghitung error antara label sebenarnya dan prediksi\n",
    "    error = y_train - a\n",
    "    # Menghitung delta (gradien) untuk update bobot\n",
    "    delta = error * sigmoid_derivative(a)\n",
    "\n",
    "    # ====== Update Bobot dan Bias ======\n",
    "    w += learning_rate * np.dot(X_train.T, delta)\n",
    "    b += learning_rate * np.sum(delta, axis=0, keepdims=True)\n",
    "\n",
    "    # ====== Logging setiap 100 epoch ======\n",
    "    if epoch % 100 == 0:\n",
    "        # Hitung akurasi berdasarkan prediksi dan label sebenarnya\n",
    "        acc = np.mean(np.argmax(a, axis=1) == np.argmax(y_train, axis=1))\n",
    "        perceptron_acc.append(acc)\n",
    "        perceptron_epochs_logged.append(epoch)\n",
    "        print(f\"Epoch {epoch}, Loss: {np.mean(np.abs(error)):.4f}, Accuracy: {acc * 100:.2f}%\")\n"
   ]
  },
  {
   "cell_type": "code",
   "execution_count": 35,
   "id": "bae419e3",
   "metadata": {},
   "outputs": [
    {
     "name": "stdout",
     "output_type": "stream",
     "text": [
      "Akurasi Perceptron: 100.00%\n"
     ]
    }
   ],
   "source": [
    "# Menghitung nilai z untuk data uji dengan menggunakan bobot (w) dan bias (b)\n",
    "z_test = np.dot(X_test, w) + b\n",
    "\n",
    "# Menerapkan fungsi aktivasi sigmoid pada hasil z\n",
    "a_test = sigmoid(z_test)\n",
    "\n",
    "# Mengambil indeks dengan nilai probabilitas tertinggi sebagai prediksi kelas\n",
    "y_pred = np.argmax(a_test, axis=1)\n",
    "\n",
    "# Mengambil label asli dari data uji (jika one-hot encoded, ambil indeks kelas sebenarnya)\n",
    "y_true = np.argmax(y_test, axis=1)\n",
    "\n",
    "# Menghitung akurasi dengan membandingkan prediksi dan label sebenarnya\n",
    "accuracy = np.mean(y_pred == y_true)\n",
    "\n",
    "# Menampilkan akurasi dalam format persentase dengan dua angka di belakang koma\n",
    "print(f\"Akurasi Perceptron: {accuracy * 100:.2f}%\")\n"
   ]
  },
  {
   "cell_type": "code",
   "execution_count": 36,
   "id": "224013c5",
   "metadata": {},
   "outputs": [],
   "source": [
    "# Menghitung objek Kmeans dengan jumlah cluster = 3\n",
    "kmeans = KMeans(n_clusters=3, random_state=0)\n",
    "\n",
    "# Melakukan clustering pada output dari perceptron (variabel 'a')\n",
    "clusters = kmeans.fit_predict(a)"
   ]
  },
  {
   "cell_type": "code",
   "execution_count": 37,
   "id": "774b9fd5",
   "metadata": {},
   "outputs": [],
   "source": [
    "# Membuat objek PCA untuk mereduksi dimensi menjadi 2\n",
    "pca = PCA(n_components=2)\n",
    "\n",
    "# Menerapkan PCA pada output dari perceptron (variabel 'a')\n",
    "a_pca = pca.fit_transform(a)"
   ]
  },
  {
   "cell_type": "code",
   "execution_count": 38,
   "id": "922e1248",
   "metadata": {},
   "outputs": [
    {
     "data": {
      "image/png": "[encoded data removed]",
      "text/plain": [
       "<Figure size 800x600 with 2 Axes>"
      ]
     },
     "metadata": {},
     "output_type": "display_data"
    }
   ],
   "source": [
    "# Menampilkan hasil clustering dan PCA dalam bentuk scatter plot\n",
    "\n",
    "plt.figure(figsize=(8,6))\n",
    "plt.scatter(a_pca[:, 0], a_pca[:, 1], c=clusters, cmap='viridis', s=50)\n",
    "plt.title(\"Clustering Berdasarkan Output Perceptron (PCA 2D)\")\n",
    "plt.xlabel(\"PC1\")\n",
    "plt.ylabel(\"PC2\")\n",
    "plt.colorbar(label=\"Cluster\")\n",
    "plt.show()"
   ]
  },
  {
   "cell_type": "code",
   "execution_count": 39,
   "id": "6a0e5b29",
   "metadata": {},
   "outputs": [],
   "source": [
    "from sklearn.metrics import classification_report, confusion_matrix, ConfusionMatrixDisplay"
   ]
  },
  {
   "cell_type": "code",
   "execution_count": 40,
   "id": "6c529a63",
   "metadata": {},
   "outputs": [],
   "source": [
    "y_true = np.argmax(y_test, axis=1)"
   ]
  },
  {
   "cell_type": "code",
   "execution_count": 41,
   "id": "3e72d5ad",
   "metadata": {},
   "outputs": [],
   "source": [
    "cm = confusion_matrix(y_true, y_pred)"
   ]
  },
  {
   "cell_type": "code",
   "execution_count": 42,
   "id": "b09d8a5c",
   "metadata": {},
   "outputs": [
    {
     "data": {
      "image/png": "[encoded data removed]",
      "text/plain": [
       "<Figure size 640x480 with 2 Axes>"
      ]
     },
     "metadata": {},
     "output_type": "display_data"
    }
   ],
   "source": [
    "disp = ConfusionMatrixDisplay(confusion_matrix=cm)\n",
    "disp.plot(cmap='Blues')\n",
    "plt.title(\"Confusion Matrix: Label Asli vs Hasil Clustering\")\n",
    "plt.show()"
   ]
  },
  {
   "cell_type": "markdown",
   "id": "d3725f37",
   "metadata": {},
   "source": [
    "# **2. Shallow Neural Network**"
   ]
  },
  {
   "cell_type": "code",
   "execution_count": 43,
   "id": "7563a1e8",
   "metadata": {},
   "outputs": [],
   "source": [
    "# Menetapkan seed untuk generator bilangan acak agar hasilnya konsisten/reproducible\n",
    "np.random.seed(2)\n",
    "\n",
    "# Menentukan jumlah neuron pada lapisan tersembunyi (hidden layer)\n",
    "hidden_size = 6\n",
    "\n",
    "# Membuat list kosong untuk menyimpan akurasi model SNN pada setiap epoch\n",
    "snn_acc_list = []\n",
    "\n",
    "# Membuat list kosong untuk mencatat epoch saat akurasi dicatat/logging dilakukan\n",
    "snn_epochs_logged = []\n"
   ]
  },
  {
   "cell_type": "code",
   "execution_count": 44,
   "id": "9f181da4",
   "metadata": {},
   "outputs": [],
   "source": [
    "# Inisialisasi bobot untuk lapisan pertama (input ke hidden), nilai acak antara -1 dan 1\n",
    "w1 = 2 * np.random.rand(input_size, hidden_size) - 1\n",
    "\n",
    "# Inisialisasi bias untuk lapisan pertama dengan nilai nol\n",
    "b1 = np.zeros((1, hidden_size))\n",
    "\n",
    "# Inisialisasi bobot untuk lapisan kedua (hidden ke output), nilai acak antara -1 dan 1\n",
    "w2 = 2 * np.random.rand(hidden_size, output_size) - 1\n",
    "\n",
    "# Inisialisasi bias untuk lapisan kedua dengan nilai nol\n",
    "b2 = np.zeros((1, output_size))\n"
   ]
  },
  {
   "cell_type": "code",
   "execution_count": 45,
   "id": "748f7a3b",
   "metadata": {},
   "outputs": [
    {
     "name": "stdout",
     "output_type": "stream",
     "text": [
      "Epoch 0, Loss: 0.4841, Accuracy: 33.33%\n",
      "Epoch 100, Loss: 0.2576, Accuracy: 87.50%\n",
      "Epoch 200, Loss: 0.2031, Accuracy: 90.00%\n",
      "Epoch 300, Loss: 0.1653, Accuracy: 93.33%\n",
      "Epoch 400, Loss: 0.1354, Accuracy: 95.00%\n",
      "Epoch 500, Loss: 0.1136, Accuracy: 95.83%\n",
      "Epoch 600, Loss: 0.0985, Accuracy: 96.67%\n",
      "Epoch 700, Loss: 0.0878, Accuracy: 96.67%\n",
      "Epoch 800, Loss: 0.0800, Accuracy: 96.67%\n",
      "Epoch 900, Loss: 0.0740, Accuracy: 96.67%\n",
      "Epoch 1000, Loss: 0.0693, Accuracy: 96.67%\n",
      "Epoch 1100, Loss: 0.0655, Accuracy: 96.67%\n",
      "Epoch 1200, Loss: 0.0624, Accuracy: 96.67%\n",
      "Epoch 1300, Loss: 0.0597, Accuracy: 96.67%\n",
      "Epoch 1400, Loss: 0.0574, Accuracy: 97.50%\n",
      "Epoch 1500, Loss: 0.0554, Accuracy: 97.50%\n",
      "Epoch 1600, Loss: 0.0536, Accuracy: 97.50%\n",
      "Epoch 1700, Loss: 0.0521, Accuracy: 97.50%\n",
      "Epoch 1800, Loss: 0.0507, Accuracy: 97.50%\n",
      "Epoch 1900, Loss: 0.0494, Accuracy: 97.50%\n",
      "Epoch 2000, Loss: 0.0483, Accuracy: 97.50%\n",
      "Epoch 2100, Loss: 0.0472, Accuracy: 97.50%\n",
      "Epoch 2200, Loss: 0.0463, Accuracy: 97.50%\n",
      "Epoch 2300, Loss: 0.0454, Accuracy: 97.50%\n",
      "Epoch 2400, Loss: 0.0446, Accuracy: 97.50%\n",
      "Epoch 2500, Loss: 0.0438, Accuracy: 97.50%\n",
      "Epoch 2600, Loss: 0.0431, Accuracy: 97.50%\n",
      "Epoch 2700, Loss: 0.0425, Accuracy: 97.50%\n",
      "Epoch 2800, Loss: 0.0418, Accuracy: 97.50%\n",
      "Epoch 2900, Loss: 0.0413, Accuracy: 97.50%\n",
      "Epoch 3000, Loss: 0.0407, Accuracy: 97.50%\n",
      "Epoch 3100, Loss: 0.0402, Accuracy: 98.33%\n",
      "Epoch 3200, Loss: 0.0397, Accuracy: 98.33%\n"
     ]
    },
    {
     "name": "stdout",
     "output_type": "stream",
     "text": [
      "Epoch 3300, Loss: 0.0393, Accuracy: 98.33%\n",
      "Epoch 3400, Loss: 0.0389, Accuracy: 98.33%\n",
      "Epoch 3500, Loss: 0.0384, Accuracy: 98.33%\n",
      "Epoch 3600, Loss: 0.0381, Accuracy: 98.33%\n",
      "Epoch 3700, Loss: 0.0377, Accuracy: 98.33%\n",
      "Epoch 3800, Loss: 0.0373, Accuracy: 98.33%\n",
      "Epoch 3900, Loss: 0.0370, Accuracy: 98.33%\n",
      "Epoch 4000, Loss: 0.0367, Accuracy: 98.33%\n",
      "Epoch 4100, Loss: 0.0364, Accuracy: 98.33%\n",
      "Epoch 4200, Loss: 0.0361, Accuracy: 98.33%\n",
      "Epoch 4300, Loss: 0.0358, Accuracy: 98.33%\n",
      "Epoch 4400, Loss: 0.0355, Accuracy: 98.33%\n",
      "Epoch 4500, Loss: 0.0353, Accuracy: 98.33%\n",
      "Epoch 4600, Loss: 0.0350, Accuracy: 98.33%\n",
      "Epoch 4700, Loss: 0.0348, Accuracy: 98.33%\n",
      "Epoch 4800, Loss: 0.0346, Accuracy: 98.33%\n",
      "Epoch 4900, Loss: 0.0343, Accuracy: 98.33%\n"
     ]
    }
   ],
   "source": [
    "for epoch in range(5000):\n",
    "    # Forward propagation\n",
    "    # Menghitung input untuk lapisan tersembunyi\n",
    "    z1 = np.dot(X_train, w1) + b1\n",
    "    # Menerapkan fungsi aktivasi sigmoid pada lapisan tersembunyi\n",
    "    a1 = sigmoid(z1)\n",
    "    # Menghitung input untuk lapisan output\n",
    "    z2 = np.dot(a1, w2) + b2\n",
    "    # Menerapkan fungsi aktivasi sigmoid pada lapisan output\n",
    "    a2 = sigmoid(z2)\n",
    "\n",
    "    # Menghitung error antara label sebenarnya dan prediksi\n",
    "    error = y_train - a2\n",
    "    # Menghitung turunan dari error terhadap output (lapisan kedua)\n",
    "    dA2 = error * sigmoid_derivative(a2)\n",
    "    # Gradien bobot dan bias untuk lapisan kedua (output)\n",
    "    dW2 = np.dot(a1.T, dA2)\n",
    "    db2 = np.sum(dA2, axis=0, keepdims=True)\n",
    "\n",
    "    # Backpropagation ke lapisan pertama (hidden)\n",
    "    dA1 = np.dot(dA2, w2.T) * sigmoid_derivative(a1)\n",
    "    dW1 = np.dot(X_train.T, dA1)\n",
    "    db1 = np.sum(dA1, axis=0, keepdims=True)\n",
    "\n",
    "    # Update bobot dan bias dengan gradient descent\n",
    "    w2 += learning_rate * dW2\n",
    "    b2 += learning_rate * db2\n",
    "    w1 += learning_rate * dW1\n",
    "    b1 += learning_rate * db1\n",
    "\n",
    "    # Setiap 100 epoch, hitung dan simpan akurasi serta cetak hasilnya\n",
    "    if epoch % 100 == 0:\n",
    "        snn_acc = np.mean(np.argmax(a2, axis=1) == np.argmax(y_train, axis=1))\n",
    "        snn_acc_list.append(snn_acc)\n",
    "        snn_epochs_logged.append(epoch)\n",
    "        print(f\"Epoch {epoch}, Loss: {np.mean(np.abs(error)):.4f}, Accuracy: {snn_acc * 100:.2f}%\")\n"
   ]
  },
  {
   "cell_type": "code",
   "execution_count": 46,
   "id": "39bdbb2f",
   "metadata": {},
   "outputs": [],
   "source": [
    "# Forward propagation pada data uji\n",
    "# Menghitung input untuk lapisan tersembunyi dari data uji\n",
    "Z1_test = np.dot(X_test, w1) + b1\n",
    "\n",
    "# Menerapkan fungsi aktivasi sigmoid pada lapisan tersembunyi (data uji)\n",
    "A1_test = sigmoid(Z1_test)\n",
    "\n",
    "# Menghitung input untuk lapisan output dari data uji\n",
    "Z2_test = np.dot(A1_test, w2) + b2\n",
    "\n",
    "# Menerapkan fungsi aktivasi sigmoid pada lapisan output (data uji)\n",
    "A2_test = sigmoid(Z2_test)\n"
   ]
  },
  {
   "cell_type": "code",
   "execution_count": 47,
   "id": "e28eac47",
   "metadata": {},
   "outputs": [
    {
     "name": "stdout",
     "output_type": "stream",
     "text": [
      "Akurasi Shallow Neural Network: 100.00%\n"
     ]
    }
   ],
   "source": [
    "# Mengambil indeks dengan nilai probabilitas tertinggi dari output sebagai prediksi kelas\n",
    "y_pred = np.argmax(A2_test, axis=1)\n",
    "\n",
    "# Mengambil label sebenarnya dari data uji (diasumsikan one-hot encoded)\n",
    "y_true = np.argmax(y_test, axis=1)\n",
    "\n",
    "# Menghitung akurasi prediksi dengan membandingkan hasil prediksi dan label sebenarnya\n",
    "accuracy = np.mean(y_pred == y_true)\n",
    "\n",
    "# Menampilkan akurasi akhir dari model Shallow Neural Network\n",
    "print(f\"Akurasi Shallow Neural Network: {accuracy * 100:.2f}%\")\n"
   ]
  },
  {
   "cell_type": "markdown",
   "id": "adf5ae31",
   "metadata": {},
   "source": [
    "# **3. MultiLayer Perception (MLP)**"
   ]
  },
  {
   "cell_type": "code",
   "execution_count": 48,
   "id": "01aa73f0",
   "metadata": {},
   "outputs": [],
   "source": [
    "# Menetapkan seed agar hasil acak tetap konsisten setiap kali program dijalankan\n",
    "np.random.seed(2)\n",
    "\n",
    "# Menentukan jumlah neuron pada hidden layer pertama\n",
    "hidden1 = 6\n",
    "\n",
    "# Menentukan jumlah neuron pada hidden layer kedua\n",
    "hidden2 = 4\n",
    "\n",
    "# List kosong untuk menyimpan akurasi model MLP pada setiap epoch\n",
    "mlp_acc_list = []\n",
    "\n",
    "# List kosong untuk mencatat epoch saat akurasi dicatat\n",
    "mlp_epochs_logged = []\n"
   ]
  },
  {
   "cell_type": "code",
   "execution_count": 49,
   "id": "d09e4f11",
   "metadata": {},
   "outputs": [],
   "source": [
    "# Inisialisasi bobot untuk layer pertama (input → hidden1), dengan nilai acak antara -1 dan 1\n",
    "W1 = 2 * np.random.rand(input_size, hidden1) - 1\n",
    "\n",
    "# Inisialisasi bias untuk layer pertama dengan nilai nol\n",
    "b1 = np.zeros((1, hidden1))\n",
    "\n",
    "# Inisialisasi bobot untuk layer kedua (hidden1 → hidden2), dengan nilai acak antara -1 dan 1\n",
    "W2 = 2 * np.random.rand(hidden1, hidden2) - 1\n",
    "\n",
    "# Inisialisasi bias untuk layer kedua dengan nilai nol\n",
    "b2 = np.zeros((1, hidden2))\n",
    "\n",
    "# Inisialisasi bobot untuk layer ketiga (hidden2 → output), dengan nilai acak antara -1 dan 1\n",
    "W3 = 2 * np.random.rand(hidden2, output_size) - 1\n",
    "\n",
    "# Inisialisasi bias untuk layer ketiga dengan nilai nol\n",
    "b3 = np.zeros((1, output_size))\n"
   ]
  },
  {
   "cell_type": "code",
   "execution_count": 50,
   "id": "f9c2302c",
   "metadata": {},
   "outputs": [
    {
     "name": "stdout",
     "output_type": "stream",
     "text": [
      "Epoch 0, Loss: 0.5012, Accuracy: 33.33%\n"
     ]
    },
    {
     "name": "stdout",
     "output_type": "stream",
     "text": [
      "Epoch 100, Loss: 0.3341, Accuracy: 67.50%\n",
      "Epoch 200, Loss: 0.2665, Accuracy: 85.00%\n",
      "Epoch 300, Loss: 0.2268, Accuracy: 93.33%\n",
      "Epoch 400, Loss: 0.1781, Accuracy: 96.67%\n",
      "Epoch 500, Loss: 0.1381, Accuracy: 96.67%\n",
      "Epoch 600, Loss: 0.1133, Accuracy: 96.67%\n",
      "Epoch 700, Loss: 0.0978, Accuracy: 96.67%\n",
      "Epoch 800, Loss: 0.0873, Accuracy: 96.67%\n",
      "Epoch 900, Loss: 0.0796, Accuracy: 96.67%\n",
      "Epoch 1000, Loss: 0.0736, Accuracy: 97.50%\n",
      "Epoch 1100, Loss: 0.0688, Accuracy: 98.33%\n",
      "Epoch 1200, Loss: 0.0649, Accuracy: 98.33%\n",
      "Epoch 1300, Loss: 0.0616, Accuracy: 98.33%\n",
      "Epoch 1400, Loss: 0.0587, Accuracy: 98.33%\n",
      "Epoch 1500, Loss: 0.0563, Accuracy: 98.33%\n",
      "Epoch 1600, Loss: 0.0542, Accuracy: 98.33%\n",
      "Epoch 1700, Loss: 0.0523, Accuracy: 98.33%\n",
      "Epoch 1800, Loss: 0.0507, Accuracy: 98.33%\n",
      "Epoch 1900, Loss: 0.0492, Accuracy: 98.33%\n",
      "Epoch 2000, Loss: 0.0478, Accuracy: 98.33%\n",
      "Epoch 2100, Loss: 0.0466, Accuracy: 98.33%\n",
      "Epoch 2200, Loss: 0.0455, Accuracy: 98.33%\n",
      "Epoch 2300, Loss: 0.0444, Accuracy: 98.33%\n",
      "Epoch 2400, Loss: 0.0435, Accuracy: 98.33%\n",
      "Epoch 2500, Loss: 0.0425, Accuracy: 98.33%\n",
      "Epoch 2600, Loss: 0.0417, Accuracy: 98.33%\n",
      "Epoch 2700, Loss: 0.0408, Accuracy: 98.33%\n",
      "Epoch 2800, Loss: 0.0401, Accuracy: 98.33%\n",
      "Epoch 2900, Loss: 0.0393, Accuracy: 98.33%\n",
      "Epoch 3000, Loss: 0.0386, Accuracy: 98.33%\n",
      "Epoch 3100, Loss: 0.0378, Accuracy: 99.17%\n",
      "Epoch 3200, Loss: 0.0371, Accuracy: 99.17%\n",
      "Epoch 3300, Loss: 0.0364, Accuracy: 99.17%\n",
      "Epoch 3400, Loss: 0.0358, Accuracy: 99.17%\n",
      "Epoch 3500, Loss: 0.0351, Accuracy: 99.17%\n",
      "Epoch 3600, Loss: 0.0345, Accuracy: 99.17%\n",
      "Epoch 3700, Loss: 0.0338, Accuracy: 99.17%\n",
      "Epoch 3800, Loss: 0.0332, Accuracy: 99.17%\n",
      "Epoch 3900, Loss: 0.0326, Accuracy: 99.17%\n",
      "Epoch 4000, Loss: 0.0320, Accuracy: 99.17%\n",
      "Epoch 4100, Loss: 0.0314, Accuracy: 99.17%\n",
      "Epoch 4200, Loss: 0.0308, Accuracy: 99.17%\n",
      "Epoch 4300, Loss: 0.0303, Accuracy: 99.17%\n",
      "Epoch 4400, Loss: 0.0298, Accuracy: 99.17%\n",
      "Epoch 4500, Loss: 0.0292, Accuracy: 99.17%\n",
      "Epoch 4600, Loss: 0.0288, Accuracy: 99.17%\n",
      "Epoch 4700, Loss: 0.0283, Accuracy: 99.17%\n",
      "Epoch 4800, Loss: 0.0278, Accuracy: 99.17%\n",
      "Epoch 4900, Loss: 0.0274, Accuracy: 99.17%\n"
     ]
    }
   ],
   "source": [
    "for epoch in range(5000):\n",
    "    # ====== Forward Propagation ======\n",
    "    # Input ke hidden layer 1\n",
    "    Z1 = np.dot(X_train, W1) + b1\n",
    "    A1 = sigmoid(Z1)\n",
    "\n",
    "    # Hidden layer 1 ke hidden layer 2\n",
    "    Z2 = np.dot(A1, W2) + b2\n",
    "    A2 = sigmoid(Z2)\n",
    "\n",
    "    # Hidden layer 2 ke output layer\n",
    "    Z3 = np.dot(A2, W3) + b3\n",
    "    A3 = sigmoid(Z3)  # Output akhir dari MLP\n",
    "\n",
    "    # ====== Backward Propagation ======\n",
    "    # Menghitung error antara label sebenarnya dan output\n",
    "    error = y_train - A3\n",
    "\n",
    "    # Gradien untuk output layer\n",
    "    dA3 = error * sigmoid_derivative(A3)\n",
    "    dW3 = np.dot(A2.T, dA3)\n",
    "    db3 = np.sum(dA3, axis=0, keepdims=True)\n",
    "\n",
    "    # Gradien untuk hidden layer kedua\n",
    "    dA2 = np.dot(dA3, W3.T) * sigmoid_derivative(A2)\n",
    "    dW2 = np.dot(A1.T, dA2)\n",
    "    db2 = np.sum(dA2, axis=0, keepdims=True)\n",
    "\n",
    "    # Gradien untuk hidden layer pertama\n",
    "    dA1 = np.dot(dA2, W2.T) * sigmoid_derivative(A1)\n",
    "    dW1 = np.dot(X_train.T, dA1)\n",
    "    db1 = np.sum(dA1, axis=0, keepdims=True)\n",
    "\n",
    "    # ====== Update Parameter (Gradient Descent) ======\n",
    "    W3 += learning_rate * dW3\n",
    "    b3 += learning_rate * db3\n",
    "    W2 += learning_rate * dW2\n",
    "    b2 += learning_rate * db2\n",
    "    W1 += learning_rate * dW1\n",
    "    b1 += learning_rate * db1\n",
    "\n",
    "    # ====== Logging setiap 100 epoch ======\n",
    "    if epoch % 100 == 0:\n",
    "        # Hitung akurasi berdasarkan prediksi dan label sebenarnya\n",
    "        acc = np.mean(np.argmax(A3, axis=1) == np.argmax(y_train, axis=1))\n",
    "        mlp_acc_list.append(acc)\n",
    "        mlp_epochs_logged.append(epoch)\n",
    "        print(f\"Epoch {epoch}, Loss: {np.mean(np.abs(error)):.4f}, Accuracy: {acc * 100:.2f}%\")\n"
   ]
  },
  {
   "cell_type": "code",
   "execution_count": 51,
   "id": "054c14b7",
   "metadata": {},
   "outputs": [],
   "source": [
    "# ====== Forward Propagation pada Data Uji ======\n",
    "\n",
    "# Input ke hidden layer pertama\n",
    "Z1_test = np.dot(X_test, W1) + b1\n",
    "A1_test = sigmoid(Z1_test)\n",
    "\n",
    "# Hidden layer pertama ke hidden layer kedua\n",
    "Z2_test = np.dot(A1_test, W2) + b2\n",
    "A2_test = sigmoid(Z2_test)\n",
    "\n",
    "# Hidden layer kedua ke output layer\n",
    "Z3_test = np.dot(A2_test, W3) + b3\n",
    "A3_test = sigmoid(Z3_test)  # Output akhir dari data uji\n"
   ]
  },
  {
   "cell_type": "code",
   "execution_count": 52,
   "id": "ea595756",
   "metadata": {},
   "outputs": [
    {
     "name": "stdout",
     "output_type": "stream",
     "text": [
      "Akurasi MLP: 100.00%\n"
     ]
    }
   ],
   "source": [
    "# Mengambil indeks dengan nilai tertinggi dari output sebagai prediksi kelas\n",
    "y_pred = np.argmax(A3_test, axis=1)\n",
    "\n",
    "# Mengambil label sebenarnya dari data uji (diasumsikan one-hot encoded)\n",
    "y_true = np.argmax(y_test, axis=1)\n",
    "\n",
    "# Menghitung akurasi dengan membandingkan prediksi dan label sebenarnya\n",
    "accuracy = np.mean(y_pred == y_true)\n",
    "\n",
    "# Menampilkan akurasi akhir dari model MLP\n",
    "print(f\"Akurasi MLP: {accuracy * 100:.2f}%\")\n"
   ]
  },
  {
   "cell_type": "code",
   "execution_count": 53,
   "id": "af01f4d8",
   "metadata": {},
   "outputs": [
    {
     "data": {
      "image/png": "[encoded data removed]",
      "text/plain": [
       "<Figure size 640x480 with 1 Axes>"
      ]
     },
     "metadata": {},
     "output_type": "display_data"
    }
   ],
   "source": [
    "plt.plot(perceptron_epochs_logged, perceptron_acc, label='Akurasi Perceptron')\n",
    "plt.plot(snn_epochs_logged, snn_acc_list, label='Akurasi Shallow Neural Network')\n",
    "plt.plot(mlp_epochs_logged, mlp_acc_list, label='Akurasi MLP')\n",
    "\n",
    "plt.title('Akurasi Model')\n",
    "plt.xlabel('Epoch')\n",
    "plt.ylabel('Akurasi')\n",
    "plt.legend()\n",
    "plt.show()"
   ]
  },
  {
   "cell_type": "code",
   "execution_count": null,
   "id": "f86f0025",
   "metadata": {},
   "outputs": [],
   "source": []
  }
 ],
 "metadata": {
  "kernelspec": {
   "display_name": "ML",
   "language": "python",
   "name": "python3"
  },
  "language_info": {
   "codemirror_mode": {
    "name": "ipython",
    "version": 3
   },
   "file_extension": ".py",
   "mimetype": "text/x-python",
   "name": "python",
   "nbconvert_exporter": "python",
   "pygments_lexer": "ipython3",
   "version": "3.12.3"
  }
 },
 "nbformat": 4,
 "nbformat_minor": 5
}
