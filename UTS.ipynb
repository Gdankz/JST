{
 "cells": [
  {
   "cell_type": "code",
   "execution_count": null,
   "id": "33711a09",
   "metadata": {},
   "outputs": [],
   "source": [
    "#Import Library\n",
    "import numpy as np\n",
    "from sklearn.datasets import load_iris\n",
    "from sklearn.model_selection import train_test_split\n",
    "from sklearn.preprocessing import StandardScaler, OneHotEncoder\n",
    "import matplotlib.pyplot as plt"
   ]
  },
  {
   "cell_type": "code",
   "execution_count": null,
   "id": "8ca2b150",
   "metadata": {},
   "outputs": [],
   "source": [
    "#Import Dataset\n",
    "iris = load_iris()\n",
    "X = iris.data\n",
    "y = iris.target.reshape(-1, 1)"
   ]
  },
  {
   "cell_type": "code",
   "execution_count": null,
   "id": "aacfad7e",
   "metadata": {},
   "outputs": [],
   "source": [
    "#Standarisasi Data\n",
    "scaler = StandardScaler()\n",
    "X = scaler.fit_transform(X)"
   ]
  },
  {
   "cell_type": "code",
   "execution_count": null,
   "id": "ed375aa1",
   "metadata": {},
   "outputs": [],
   "source": [
    "#Ubah Bentuk Data dengan encoding\n",
    "encoder = OneHotEncoder(sparse_output=False)\n",
    "y_encoded = encoder.fit_transform(y)"
   ]
  },
  {
   "cell_type": "code",
   "execution_count": null,
   "id": "6dd6f49c",
   "metadata": {},
   "outputs": [],
   "source": [
    "#Split Data\n",
    "X_train, X_test, y_train, y_test = train_test_split(X, y_encoded, test_size=0.2)"
   ]
  },
  {
   "cell_type": "markdown",
   "id": "ee32aca2",
   "metadata": {},
   "source": [
    "#  **1. Perceptron**"
   ]
  },
  {
   "cell_type": "code",
   "execution_count": null,
   "id": "e4932969",
   "metadata": {},
   "outputs": [],
   "source": [
    "#Membuat Fungsi Sigmoid\n",
    "def sigmoid(x):\n",
    "    return 1 / (1 + np.exp(-x))"
   ]
  },
  {
   "cell_type": "code",
   "execution_count": null,
   "id": "32599940",
   "metadata": {},
   "outputs": [],
   "source": [
    "#Membuat Fungsi Sigmoid Derivative\n",
    "def sigmoid_derivative(x):\n",
    "    return x * (1 - x)"
   ]
  },
  {
   "cell_type": "code",
   "execution_count": null,
   "id": "c6c2e72f",
   "metadata": {},
   "outputs": [],
   "source": [
    "input_size = X_train.shape[1]  # Menentukan ukuran input berdasarkan jumlah fitur pada data latih\n",
    "output_size = 3  # Menentukan ukuran output (jumlah kelas)\n",
    "learning_rate = 0.01  # Menentukan nilai learning rate untuk pembelajaran\n",
    "perceptron_acc = []  # Membuat list kosong untuk menyimpan akurasi model Perceptron\n",
    "perceptron_epochs_logged = []  # Membuat list kosong untuk mencatat epoch yang dilog\n"
   ]
  },
  {
   "cell_type": "code",
   "execution_count": null,
   "id": "c5ed846c",
   "metadata": {},
   "outputs": [],
   "source": [
    "# Tetapkan seed random untuk memastikan hasil yang dapat direproduksi\n",
    "np.random.seed(1) \n",
    "\n",
    "# Inisialisasi bobot secara acak dengan nilai dalam rentang [-1, 1]\n",
    "w = 2 * np.random.random((input_size, output_size)) - 1  # Initialize weights randomly with values in range [-1, 1]\n",
    "\n",
    "# Inisialisasi bias dengan nilai nol\n",
    "b = np.zeros((1, output_size))  # Initialize biases with zeros"
   ]
  },
  {
   "cell_type": "code",
   "execution_count": 149,
   "id": "bc0093fc",
   "metadata": {},
   "outputs": [
    {
     "name": "stdout",
     "output_type": "stream",
     "text": [
      "Epoch 0, Loss: 0.4757, Accuracy: 45.00%\n",
      "Epoch 100, Loss: 0.1991, Accuracy: 88.33%\n",
      "Epoch 200, Loss: 0.1816, Accuracy: 90.00%\n",
      "Epoch 300, Loss: 0.1728, Accuracy: 91.67%\n",
      "Epoch 400, Loss: 0.1672, Accuracy: 93.33%\n",
      "Epoch 500, Loss: 0.1631, Accuracy: 93.33%\n",
      "Epoch 600, Loss: 0.1600, Accuracy: 93.33%\n",
      "Epoch 700, Loss: 0.1575, Accuracy: 93.33%\n",
      "Epoch 800, Loss: 0.1555, Accuracy: 93.33%\n",
      "Epoch 900, Loss: 0.1538, Accuracy: 93.33%\n",
      "Epoch 1000, Loss: 0.1523, Accuracy: 93.33%\n",
      "Epoch 1100, Loss: 0.1510, Accuracy: 93.33%\n",
      "Epoch 1200, Loss: 0.1499, Accuracy: 93.33%\n",
      "Epoch 1300, Loss: 0.1489, Accuracy: 93.33%\n",
      "Epoch 1400, Loss: 0.1480, Accuracy: 94.17%\n",
      "Epoch 1500, Loss: 0.1472, Accuracy: 95.00%\n",
      "Epoch 1600, Loss: 0.1464, Accuracy: 95.00%\n",
      "Epoch 1700, Loss: 0.1458, Accuracy: 95.00%\n",
      "Epoch 1800, Loss: 0.1451, Accuracy: 95.00%\n",
      "Epoch 1900, Loss: 0.1445, Accuracy: 95.00%\n",
      "Epoch 2000, Loss: 0.1440, Accuracy: 95.00%\n",
      "Epoch 2100, Loss: 0.1435, Accuracy: 95.00%\n",
      "Epoch 2200, Loss: 0.1430, Accuracy: 95.00%\n",
      "Epoch 2300, Loss: 0.1426, Accuracy: 95.00%\n",
      "Epoch 2400, Loss: 0.1422, Accuracy: 95.00%\n",
      "Epoch 2500, Loss: 0.1418, Accuracy: 95.00%\n",
      "Epoch 2600, Loss: 0.1414, Accuracy: 95.00%\n",
      "Epoch 2700, Loss: 0.1411, Accuracy: 95.00%\n",
      "Epoch 2800, Loss: 0.1407, Accuracy: 95.00%\n",
      "Epoch 2900, Loss: 0.1404, Accuracy: 95.00%\n",
      "Epoch 3000, Loss: 0.1401, Accuracy: 95.00%\n",
      "Epoch 3100, Loss: 0.1399, Accuracy: 95.00%\n",
      "Epoch 3200, Loss: 0.1396, Accuracy: 95.00%\n",
      "Epoch 3300, Loss: 0.1393, Accuracy: 95.00%\n",
      "Epoch 3400, Loss: 0.1391, Accuracy: 95.00%\n",
      "Epoch 3500, Loss: 0.1388, Accuracy: 95.00%\n",
      "Epoch 3600, Loss: 0.1386, Accuracy: 95.00%\n",
      "Epoch 3700, Loss: 0.1384, Accuracy: 95.00%\n",
      "Epoch 3800, Loss: 0.1382, Accuracy: 95.00%\n",
      "Epoch 3900, Loss: 0.1380, Accuracy: 95.00%\n",
      "Epoch 4000, Loss: 0.1378, Accuracy: 95.00%\n",
      "Epoch 4100, Loss: 0.1376, Accuracy: 95.00%\n",
      "Epoch 4200, Loss: 0.1374, Accuracy: 95.00%\n",
      "Epoch 4300, Loss: 0.1373, Accuracy: 95.00%\n",
      "Epoch 4400, Loss: 0.1371, Accuracy: 95.00%\n",
      "Epoch 4500, Loss: 0.1370, Accuracy: 95.00%\n",
      "Epoch 4600, Loss: 0.1368, Accuracy: 95.00%\n",
      "Epoch 4700, Loss: 0.1367, Accuracy: 95.00%\n",
      "Epoch 4800, Loss: 0.1365, Accuracy: 95.00%\n",
      "Epoch 4900, Loss: 0.1364, Accuracy: 95.00%\n"
     ]
    }
   ],
   "source": [
    "for epoch in range(5000):\n",
    "    # Forward propagation\n",
    "    z = np.dot(X_train, w) + b\n",
    "    a = sigmoid(z)\n",
    "\n",
    "    # Compute loss (mean squared error)\n",
    "    loss = np.mean(np.square(y_train - a))\n",
    "\n",
    "    # Backward propagation\n",
    "    error = y_train - a\n",
    "    delta = error * sigmoid_derivative(a)\n",
    "\n",
    "    # Update weights and biases\n",
    "    w += learning_rate * np.dot(X_train.T, delta)\n",
    "    b += learning_rate * np.sum(delta, axis=0, keepdims=True)\n",
    "\n",
    "    if epoch % 100 == 0:\n",
    "        acc = np.mean(np.argmax(a, axis=1) == np.argmax(y_train, axis=1))\n",
    "        perceptron_acc.append(acc)\n",
    "        perceptron_epochs_logged.append(epoch)\n",
    "        print(f\"Epoch {epoch}, Loss: {np.mean(np.abs(error)):.4f}, Accuracy: {acc * 100:.2f}%\")\n"
   ]
  },
  {
   "cell_type": "code",
   "execution_count": null,
   "id": "bae419e3",
   "metadata": {},
   "outputs": [
    {
     "name": "stdout",
     "output_type": "stream",
     "text": [
      "Akurasi Perceptron: 96.67%\n"
     ]
    }
   ],
   "source": [
    "# Menghitung nilai z untuk data uji dengan menggunakan bobot (w) dan bias (b)\n",
    "z_test = np.dot(X_test, w) + b\n",
    "\n",
    "# Menerapkan fungsi aktivasi sigmoid pada hasil z\n",
    "a_test = sigmoid(z_test)\n",
    "\n",
    "# Mengambil indeks dengan nilai probabilitas tertinggi sebagai prediksi kelas\n",
    "y_pred = np.argmax(a_test, axis=1)\n",
    "\n",
    "# Mengambil label asli dari data uji (jika one-hot encoded, ambil indeks kelas sebenarnya)\n",
    "y_true = np.argmax(y_test, axis=1)\n",
    "\n",
    "# Menghitung akurasi dengan membandingkan prediksi dan label sebenarnya\n",
    "accuracy = np.mean(y_pred == y_true)\n",
    "\n",
    "# Menampilkan akurasi dalam format persentase dengan dua angka di belakang koma\n",
    "print(f\"Akurasi Perceptron: {accuracy * 100:.2f}%\")\n"
   ]
  },
  {
   "cell_type": "markdown",
   "id": "d3725f37",
   "metadata": {},
   "source": [
    "# **2. Shallow Neural Network**"
   ]
  },
  {
   "cell_type": "code",
   "execution_count": null,
   "id": "7563a1e8",
   "metadata": {},
   "outputs": [],
   "source": [
    "# Menetapkan seed untuk generator bilangan acak agar hasilnya konsisten/reproducible\n",
    "np.random.seed(2)\n",
    "\n",
    "# Menentukan jumlah neuron pada lapisan tersembunyi (hidden layer)\n",
    "hidden_size = 6\n",
    "\n",
    "# Membuat list kosong untuk menyimpan akurasi model SNN pada setiap epoch\n",
    "snn_acc_list = []\n",
    "\n",
    "# Membuat list kosong untuk mencatat epoch saat akurasi dicatat/logging dilakukan\n",
    "snn_epochs_logged = []\n"
   ]
  },
  {
   "cell_type": "code",
   "execution_count": null,
   "id": "9f181da4",
   "metadata": {},
   "outputs": [],
   "source": [
    "# Inisialisasi bobot untuk lapisan pertama (input ke hidden), nilai acak antara -1 dan 1\n",
    "w1 = 2 * np.random.rand(input_size, hidden_size) - 1\n",
    "\n",
    "# Inisialisasi bias untuk lapisan pertama dengan nilai nol\n",
    "b1 = np.zeros((1, hidden_size))\n",
    "\n",
    "# Inisialisasi bobot untuk lapisan kedua (hidden ke output), nilai acak antara -1 dan 1\n",
    "w2 = 2 * np.random.rand(hidden_size, output_size) - 1\n",
    "\n",
    "# Inisialisasi bias untuk lapisan kedua dengan nilai nol\n",
    "b2 = np.zeros((1, output_size))\n"
   ]
  },
  {
   "cell_type": "code",
   "execution_count": null,
   "id": "748f7a3b",
   "metadata": {},
   "outputs": [],
   "source": [
    "for epoch in range(5000):\n",
    "    # Forward propagation\n",
    "    # Menghitung input untuk lapisan tersembunyi\n",
    "    z1 = np.dot(X_train, w1) + b1\n",
    "    # Menerapkan fungsi aktivasi sigmoid pada lapisan tersembunyi\n",
    "    a1 = sigmoid(z1)\n",
    "    # Menghitung input untuk lapisan output\n",
    "    z2 = np.dot(a1, w2) + b2\n",
    "    # Menerapkan fungsi aktivasi sigmoid pada lapisan output\n",
    "    a2 = sigmoid(z2)\n",
    "\n",
    "    # Menghitung error antara label sebenarnya dan prediksi\n",
    "    error = y_train - a2\n",
    "    # Menghitung turunan dari error terhadap output (lapisan kedua)\n",
    "    dA2 = error * sigmoid_derivative(a2)\n",
    "    # Gradien bobot dan bias untuk lapisan kedua (output)\n",
    "    dW2 = np.dot(a1.T, dA2)\n",
    "    db2 = np.sum(dA2, axis=0, keepdims=True)\n",
    "\n",
    "    # Backpropagation ke lapisan pertama (hidden)\n",
    "    dA1 = np.dot(dA2, w2.T) * sigmoid_derivative(a1)\n",
    "    dW1 = np.dot(X_train.T, dA1)\n",
    "    db1 = np.sum(dA1, axis=0, keepdims=True)\n",
    "\n",
    "    # Update bobot dan bias dengan gradient descent\n",
    "    w2 += learning_rate * dW2\n",
    "    b2 += learning_rate * db2\n",
    "    w1 += learning_rate * dW1\n",
    "    b1 += learning_rate * db1\n",
    "\n",
    "    # Setiap 100 epoch, hitung dan simpan akurasi serta cetak hasilnya\n",
    "    if epoch % 100 == 0:\n",
    "        snn_acc = np.mean(np.argmax(a2, axis=1) == np.argmax(y_train, axis=1))\n",
    "        snn_acc_list.append(snn_acc)\n",
    "        snn_epochs_logged.append(epoch)\n",
    "        print(f\"Epoch {epoch}, Loss: {np.mean(np.abs(error)):.4f}, Accuracy: {snn_acc * 100:.2f}%\")\n"
   ]
  },
  {
   "cell_type": "code",
   "execution_count": null,
   "id": "39bdbb2f",
   "metadata": {},
   "outputs": [],
   "source": [
    "# Forward propagation pada data uji\n",
    "# Menghitung input untuk lapisan tersembunyi dari data uji\n",
    "Z1_test = np.dot(X_test, w1) + b1\n",
    "\n",
    "# Menerapkan fungsi aktivasi sigmoid pada lapisan tersembunyi (data uji)\n",
    "A1_test = sigmoid(Z1_test)\n",
    "\n",
    "# Menghitung input untuk lapisan output dari data uji\n",
    "Z2_test = np.dot(A1_test, w2) + b2\n",
    "\n",
    "# Menerapkan fungsi aktivasi sigmoid pada lapisan output (data uji)\n",
    "A2_test = sigmoid(Z2_test)\n"
   ]
  },
  {
   "cell_type": "code",
   "execution_count": null,
   "id": "e28eac47",
   "metadata": {},
   "outputs": [
    {
     "name": "stdout",
     "output_type": "stream",
     "text": [
      "Akurasi Shallow Neural Network: 100.00%\n"
     ]
    }
   ],
   "source": [
    "# Mengambil indeks dengan nilai probabilitas tertinggi dari output sebagai prediksi kelas\n",
    "y_pred = np.argmax(A2_test, axis=1)\n",
    "\n",
    "# Mengambil label sebenarnya dari data uji (diasumsikan one-hot encoded)\n",
    "y_true = np.argmax(y_test, axis=1)\n",
    "\n",
    "# Menghitung akurasi prediksi dengan membandingkan hasil prediksi dan label sebenarnya\n",
    "accuracy = np.mean(y_pred == y_true)\n",
    "\n",
    "# Menampilkan akurasi akhir dari model Shallow Neural Network\n",
    "print(f\"Akurasi Shallow Neural Network: {accuracy * 100:.2f}%\")\n"
   ]
  },
  {
   "cell_type": "markdown",
   "id": "adf5ae31",
   "metadata": {},
   "source": [
    "# **3. MultiLayer Perception (MLP)**"
   ]
  },
  {
   "cell_type": "code",
   "execution_count": null,
   "id": "01aa73f0",
   "metadata": {},
   "outputs": [],
   "source": [
    "# Menetapkan seed agar hasil acak tetap konsisten setiap kali program dijalankan\n",
    "np.random.seed(2)\n",
    "\n",
    "# Menentukan jumlah neuron pada hidden layer pertama\n",
    "hidden1 = 6\n",
    "\n",
    "# Menentukan jumlah neuron pada hidden layer kedua\n",
    "hidden2 = 4\n",
    "\n",
    "# List kosong untuk menyimpan akurasi model MLP pada setiap epoch\n",
    "mlp_acc_list = []\n",
    "\n",
    "# List kosong untuk mencatat epoch saat akurasi dicatat\n",
    "mlp_epochs_logged = []\n"
   ]
  },
  {
   "cell_type": "code",
   "execution_count": null,
   "id": "d09e4f11",
   "metadata": {},
   "outputs": [],
   "source": [
    "# Inisialisasi bobot untuk layer pertama (input → hidden1), dengan nilai acak antara -1 dan 1\n",
    "W1 = 2 * np.random.rand(input_size, hidden1) - 1\n",
    "\n",
    "# Inisialisasi bias untuk layer pertama dengan nilai nol\n",
    "b1 = np.zeros((1, hidden1))\n",
    "\n",
    "# Inisialisasi bobot untuk layer kedua (hidden1 → hidden2), dengan nilai acak antara -1 dan 1\n",
    "W2 = 2 * np.random.rand(hidden1, hidden2) - 1\n",
    "\n",
    "# Inisialisasi bias untuk layer kedua dengan nilai nol\n",
    "b2 = np.zeros((1, hidden2))\n",
    "\n",
    "# Inisialisasi bobot untuk layer ketiga (hidden2 → output), dengan nilai acak antara -1 dan 1\n",
    "W3 = 2 * np.random.rand(hidden2, output_size) - 1\n",
    "\n",
    "# Inisialisasi bias untuk layer ketiga dengan nilai nol\n",
    "b3 = np.zeros((1, output_size))\n"
   ]
  },
  {
   "cell_type": "code",
   "execution_count": null,
   "id": "f9c2302c",
   "metadata": {},
   "outputs": [
    {
     "name": "stdout",
     "output_type": "stream",
     "text": [
      "Epoch 0, Loss: 0.4983, Accuracy: 32.50%\n",
      "Epoch 100, Loss: 0.3411, Accuracy: 80.00%\n",
      "Epoch 200, Loss: 0.2704, Accuracy: 90.00%\n",
      "Epoch 300, Loss: 0.2249, Accuracy: 93.33%\n",
      "Epoch 400, Loss: 0.1747, Accuracy: 94.17%\n",
      "Epoch 500, Loss: 0.1355, Accuracy: 96.67%\n",
      "Epoch 600, Loss: 0.1111, Accuracy: 96.67%\n",
      "Epoch 700, Loss: 0.0957, Accuracy: 96.67%\n",
      "Epoch 800, Loss: 0.0851, Accuracy: 98.33%\n",
      "Epoch 900, Loss: 0.0774, Accuracy: 98.33%\n",
      "Epoch 1000, Loss: 0.0714, Accuracy: 98.33%\n",
      "Epoch 1100, Loss: 0.0666, Accuracy: 98.33%\n",
      "Epoch 1200, Loss: 0.0627, Accuracy: 98.33%\n",
      "Epoch 1300, Loss: 0.0594, Accuracy: 98.33%\n",
      "Epoch 1400, Loss: 0.0567, Accuracy: 98.33%\n",
      "Epoch 1500, Loss: 0.0543, Accuracy: 98.33%\n",
      "Epoch 1600, Loss: 0.0522, Accuracy: 98.33%\n",
      "Epoch 1700, Loss: 0.0504, Accuracy: 98.33%\n",
      "Epoch 1800, Loss: 0.0488, Accuracy: 98.33%\n",
      "Epoch 1900, Loss: 0.0474, Accuracy: 98.33%\n",
      "Epoch 2000, Loss: 0.0461, Accuracy: 98.33%\n",
      "Epoch 2100, Loss: 0.0450, Accuracy: 98.33%\n",
      "Epoch 2200, Loss: 0.0439, Accuracy: 98.33%\n",
      "Epoch 2300, Loss: 0.0429, Accuracy: 98.33%\n",
      "Epoch 2400, Loss: 0.0420, Accuracy: 98.33%\n",
      "Epoch 2500, Loss: 0.0412, Accuracy: 98.33%\n",
      "Epoch 2600, Loss: 0.0404, Accuracy: 98.33%\n",
      "Epoch 2700, Loss: 0.0397, Accuracy: 98.33%\n",
      "Epoch 2800, Loss: 0.0390, Accuracy: 98.33%\n",
      "Epoch 2900, Loss: 0.0383, Accuracy: 98.33%\n",
      "Epoch 3000, Loss: 0.0377, Accuracy: 98.33%\n",
      "Epoch 3100, Loss: 0.0370, Accuracy: 98.33%\n",
      "Epoch 3200, Loss: 0.0365, Accuracy: 98.33%\n",
      "Epoch 3300, Loss: 0.0359, Accuracy: 98.33%\n",
      "Epoch 3400, Loss: 0.0353, Accuracy: 99.17%\n",
      "Epoch 3500, Loss: 0.0348, Accuracy: 99.17%\n",
      "Epoch 3600, Loss: 0.0342, Accuracy: 99.17%\n",
      "Epoch 3700, Loss: 0.0337, Accuracy: 99.17%\n",
      "Epoch 3800, Loss: 0.0332, Accuracy: 99.17%\n",
      "Epoch 3900, Loss: 0.0327, Accuracy: 99.17%\n",
      "Epoch 4000, Loss: 0.0322, Accuracy: 99.17%\n",
      "Epoch 4100, Loss: 0.0317, Accuracy: 99.17%\n",
      "Epoch 4200, Loss: 0.0312, Accuracy: 99.17%\n",
      "Epoch 4300, Loss: 0.0307, Accuracy: 99.17%\n",
      "Epoch 4400, Loss: 0.0303, Accuracy: 99.17%\n",
      "Epoch 4500, Loss: 0.0298, Accuracy: 99.17%\n",
      "Epoch 4600, Loss: 0.0294, Accuracy: 99.17%\n",
      "Epoch 4700, Loss: 0.0289, Accuracy: 99.17%\n",
      "Epoch 4800, Loss: 0.0285, Accuracy: 99.17%\n",
      "Epoch 4900, Loss: 0.0281, Accuracy: 99.17%\n"
     ]
    }
   ],
   "source": [
    "for epoch in range(5000):\n",
    "    # ====== Forward Propagation ======\n",
    "    # Input ke hidden layer 1\n",
    "    Z1 = np.dot(X_train, W1) + b1\n",
    "    A1 = sigmoid(Z1)\n",
    "\n",
    "    # Hidden layer 1 ke hidden layer 2\n",
    "    Z2 = np.dot(A1, W2) + b2\n",
    "    A2 = sigmoid(Z2)\n",
    "\n",
    "    # Hidden layer 2 ke output layer\n",
    "    Z3 = np.dot(A2, W3) + b3\n",
    "    A3 = sigmoid(Z3)  # Output akhir dari MLP\n",
    "\n",
    "    # ====== Backward Propagation ======\n",
    "    # Menghitung error antara label sebenarnya dan output\n",
    "    error = y_train - A3\n",
    "\n",
    "    # Gradien untuk output layer\n",
    "    dA3 = error * sigmoid_derivative(A3)\n",
    "    dW3 = np.dot(A2.T, dA3)\n",
    "    db3 = np.sum(dA3, axis=0, keepdims=True)\n",
    "\n",
    "    # Gradien untuk hidden layer kedua\n",
    "    dA2 = np.dot(dA3, W3.T) * sigmoid_derivative(A2)\n",
    "    dW2 = np.dot(A1.T, dA2)\n",
    "    db2 = np.sum(dA2, axis=0, keepdims=True)\n",
    "\n",
    "    # Gradien untuk hidden layer pertama\n",
    "    dA1 = np.dot(dA2, W2.T) * sigmoid_derivative(A1)\n",
    "    dW1 = np.dot(X_train.T, dA1)\n",
    "    db1 = np.sum(dA1, axis=0, keepdims=True)\n",
    "\n",
    "    # ====== Update Parameter (Gradient Descent) ======\n",
    "    W3 += learning_rate * dW3\n",
    "    b3 += learning_rate * db3\n",
    "    W2 += learning_rate * dW2\n",
    "    b2 += learning_rate * db2\n",
    "    W1 += learning_rate * dW1\n",
    "    b1 += learning_rate * db1\n",
    "\n",
    "    # ====== Logging setiap 100 epoch ======\n",
    "    if epoch % 100 == 0:\n",
    "        # Hitung akurasi berdasarkan prediksi dan label sebenarnya\n",
    "        acc = np.mean(np.argmax(A3, axis=1) == np.argmax(y_train, axis=1))\n",
    "        mlp_acc_list.append(acc)\n",
    "        mlp_epochs_logged.append(epoch)\n",
    "        print(f\"Epoch {epoch}, Loss: {np.mean(np.abs(error)):.4f}, Accuracy: {acc * 100:.2f}%\")\n"
   ]
  },
  {
   "cell_type": "code",
   "execution_count": null,
   "id": "054c14b7",
   "metadata": {},
   "outputs": [],
   "source": [
    "# ====== Forward Propagation pada Data Uji ======\n",
    "\n",
    "# Input ke hidden layer pertama\n",
    "Z1_test = np.dot(X_test, W1) + b1\n",
    "A1_test = sigmoid(Z1_test)\n",
    "\n",
    "# Hidden layer pertama ke hidden layer kedua\n",
    "Z2_test = np.dot(A1_test, W2) + b2\n",
    "A2_test = sigmoid(Z2_test)\n",
    "\n",
    "# Hidden layer kedua ke output layer\n",
    "Z3_test = np.dot(A2_test, W3) + b3\n",
    "A3_test = sigmoid(Z3_test)  # Output akhir dari data uji\n"
   ]
  },
  {
   "cell_type": "code",
   "execution_count": null,
   "id": "ea595756",
   "metadata": {},
   "outputs": [
    {
     "name": "stdout",
     "output_type": "stream",
     "text": [
      "Akurasi MLP: 96.67%\n"
     ]
    }
   ],
   "source": [
    "# Mengambil indeks dengan nilai tertinggi dari output sebagai prediksi kelas\n",
    "y_pred = np.argmax(A3_test, axis=1)\n",
    "\n",
    "# Mengambil label sebenarnya dari data uji (diasumsikan one-hot encoded)\n",
    "y_true = np.argmax(y_test, axis=1)\n",
    "\n",
    "# Menghitung akurasi dengan membandingkan prediksi dan label sebenarnya\n",
    "accuracy = np.mean(y_pred == y_true)\n",
    "\n",
    "# Menampilkan akurasi akhir dari model MLP\n",
    "print(f\"Akurasi MLP: {accuracy * 100:.2f}%\")\n"
   ]
  },
  {
   "cell_type": "code",
   "execution_count": 161,
   "id": "af01f4d8",
   "metadata": {},
   "outputs": [
    {
     "data": {
      "image/png": "[encoded data removed]",
      "text/plain": [
       "<Figure size 640x480 with 1 Axes>"
      ]
     },
     "metadata": {},
     "output_type": "display_data"
    }
   ],
   "source": [
    "plt.plot(perceptron_epochs_logged, perceptron_acc, label='Akurasi Perceptron')\n",
    "plt.plot(snn_epochs_logged, snn_acc_list, label='Akurasi Shallow Neural Network')\n",
    "plt.plot(mlp_epochs_logged, mlp_acc_list, label='Akurasi MLP')\n",
    "\n",
    "plt.title('Akurasi Model')\n",
    "plt.xlabel('Epoch')\n",
    "plt.ylabel('Akurasi')\n",
    "plt.legend()\n",
    "plt.show()"
   ]
  },
  {
   "cell_type": "code",
   "execution_count": null,
   "id": "f86f0025",
   "metadata": {},
   "outputs": [],
   "source": []
  }
 ],
 "metadata": {
  "kernelspec": {
   "display_name": "ML",
   "language": "python",
   "name": "python3"
  },
  "language_info": {
   "codemirror_mode": {
    "name": "ipython",
    "version": 3
   },
   "file_extension": ".py",
   "mimetype": "text/x-python",
   "name": "python",
   "nbconvert_exporter": "python",
   "pygments_lexer": "ipython3",
   "version": "3.12.3"
  }
 },
 "nbformat": 4,
 "nbformat_minor": 5
}
